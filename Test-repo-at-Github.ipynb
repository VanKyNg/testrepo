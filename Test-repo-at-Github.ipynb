{
 "cells": [
  {
   "cell_type": "code",
   "execution_count": 1,
   "id": "3d53d323-38e7-4222-bd45-ba07517bd7d9",
   "metadata": {},
   "outputs": [
    {
     "name": "stdout",
     "output_type": "stream",
     "text": [
      "Hello the World from Sydney, Australia\n"
     ]
    }
   ],
   "source": [
    "# I created this Jupyter notebook for learning to use Github in the module 1 of Course 10 Applied Data Science Capstone\n",
    "print('Hello the World from Sydney, Australia')"
   ]
  },
  {
   "cell_type": "code",
   "execution_count": null,
   "id": "60125f05-f4f4-4161-9940-28c74a80997d",
   "metadata": {},
   "outputs": [],
   "source": []
  }
 ],
 "metadata": {
  "kernelspec": {
   "display_name": "Python 3 (ipykernel)",
   "language": "python",
   "name": "python3"
  },
  "language_info": {
   "codemirror_mode": {
    "name": "ipython",
    "version": 3
   },
   "file_extension": ".py",
   "mimetype": "text/x-python",
   "name": "python",
   "nbconvert_exporter": "python",
   "pygments_lexer": "ipython3",
   "version": "3.12.7"
  }
 },
 "nbformat": 4,
 "nbformat_minor": 5
}
